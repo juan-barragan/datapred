{
 "cells": [
  {
   "cell_type": "markdown",
   "metadata": {},
   "source": [
    "# Install Pandas if not already done "
   ]
  },
  {
   "cell_type": "code",
   "execution_count": 1,
   "metadata": {},
   "outputs": [
    {
     "name": "stdout",
     "output_type": "stream",
     "text": [
      "Requirement already satisfied: pandas in /Users/juan/Lab/scy-py/lib/python3.11/site-packages (1.5.3)\n",
      "Requirement already satisfied: python-dateutil>=2.8.1 in /Users/juan/Lab/scy-py/lib/python3.11/site-packages (from pandas) (2.8.2)\n",
      "Requirement already satisfied: pytz>=2020.1 in /Users/juan/Lab/scy-py/lib/python3.11/site-packages (from pandas) (2022.7.1)\n",
      "Requirement already satisfied: numpy>=1.21.0 in /Users/juan/Lab/scy-py/lib/python3.11/site-packages (from pandas) (1.24.2)\n",
      "Requirement already satisfied: six>=1.5 in /Users/juan/Lab/scy-py/lib/python3.11/site-packages (from python-dateutil>=2.8.1->pandas) (1.16.0)\n",
      "\n",
      "\u001b[1m[\u001b[0m\u001b[34;49mnotice\u001b[0m\u001b[1;39;49m]\u001b[0m\u001b[39;49m A new release of pip is available: \u001b[0m\u001b[31;49m23.1.2\u001b[0m\u001b[39;49m -> \u001b[0m\u001b[32;49m23.2.1\u001b[0m\n",
      "\u001b[1m[\u001b[0m\u001b[34;49mnotice\u001b[0m\u001b[1;39;49m]\u001b[0m\u001b[39;49m To update, run: \u001b[0m\u001b[32;49mpip install --upgrade pip\u001b[0m\n"
     ]
    }
   ],
   "source": [
    "!pip install pandas"
   ]
  },
  {
   "cell_type": "markdown",
   "metadata": {},
   "source": [
    "# set the time interval, path and names of files"
   ]
  },
  {
   "cell_type": "code",
   "execution_count": 2,
   "metadata": {},
   "outputs": [],
   "source": [
    "import datetime\n",
    "from pathlib import Path\n",
    "\n",
    "path = Path('files')\n",
    "sales_file = 'sales_data.csv'\n",
    "stores_file = 'stores.csv'\n",
    "product_file = 'products.csv'\n",
    "begin_date = datetime.datetime(2016, 1, 1)\n",
    "end_date = datetime.datetime(2016, 2, 1)"
   ]
  },
  {
   "cell_type": "markdown",
   "metadata": {},
   "source": [
    "# Use the analytics module"
   ]
  },
  {
   "cell_type": "code",
   "execution_count": 3,
   "metadata": {},
   "outputs": [
    {
     "name": "stdout",
     "output_type": "stream",
     "text": [
      "[Retailer_Performance(retailer_id=2, revenue=910035355.35), Retailer_Performance(retailer_id=1, revenue=725266265.75), Retailer_Performance(retailer_id=0, revenue=636448278.6)]\n"
     ]
    }
   ],
   "source": [
    "from metrics import analytics\n",
    "\n",
    "top_retailers = analytics.top_retailers_on_period(\n",
    "    path,\n",
    "    sales_file,\n",
    "    stores_file,\n",
    "    begin_date,\n",
    "    end_date\n",
    ")\n",
    "print(top_retailers)"
   ]
  },
  {
   "cell_type": "code",
   "execution_count": 4,
   "metadata": {},
   "outputs": [
    {
     "name": "stdout",
     "output_type": "stream",
     "text": [
      "[product_family_sales_by_day(date=Timestamp('2016-01-01 00:00:00'), sales=122115), product_family_sales_by_day(date=Timestamp('2016-01-02 00:00:00'), sales=124136), product_family_sales_by_day(date=Timestamp('2016-01-03 00:00:00'), sales=127171), product_family_sales_by_day(date=Timestamp('2016-01-04 00:00:00'), sales=123225), product_family_sales_by_day(date=Timestamp('2016-01-05 00:00:00'), sales=125286), product_family_sales_by_day(date=Timestamp('2016-01-06 00:00:00'), sales=124760), product_family_sales_by_day(date=Timestamp('2016-01-07 00:00:00'), sales=123181), product_family_sales_by_day(date=Timestamp('2016-01-08 00:00:00'), sales=126128), product_family_sales_by_day(date=Timestamp('2016-01-09 00:00:00'), sales=125590), product_family_sales_by_day(date=Timestamp('2016-01-10 00:00:00'), sales=124099), product_family_sales_by_day(date=Timestamp('2016-01-11 00:00:00'), sales=124614), product_family_sales_by_day(date=Timestamp('2016-01-12 00:00:00'), sales=124534), product_family_sales_by_day(date=Timestamp('2016-01-13 00:00:00'), sales=124199), product_family_sales_by_day(date=Timestamp('2016-01-14 00:00:00'), sales=128363), product_family_sales_by_day(date=Timestamp('2016-01-15 00:00:00'), sales=121706), product_family_sales_by_day(date=Timestamp('2016-01-16 00:00:00'), sales=123297), product_family_sales_by_day(date=Timestamp('2016-01-17 00:00:00'), sales=124283), product_family_sales_by_day(date=Timestamp('2016-01-18 00:00:00'), sales=125653), product_family_sales_by_day(date=Timestamp('2016-01-19 00:00:00'), sales=124231), product_family_sales_by_day(date=Timestamp('2016-01-20 00:00:00'), sales=125690), product_family_sales_by_day(date=Timestamp('2016-01-21 00:00:00'), sales=122576), product_family_sales_by_day(date=Timestamp('2016-01-22 00:00:00'), sales=125345), product_family_sales_by_day(date=Timestamp('2016-01-23 00:00:00'), sales=124925), product_family_sales_by_day(date=Timestamp('2016-01-24 00:00:00'), sales=127565), product_family_sales_by_day(date=Timestamp('2016-01-25 00:00:00'), sales=125124), product_family_sales_by_day(date=Timestamp('2016-01-26 00:00:00'), sales=124400), product_family_sales_by_day(date=Timestamp('2016-01-27 00:00:00'), sales=121551), product_family_sales_by_day(date=Timestamp('2016-01-28 00:00:00'), sales=123794), product_family_sales_by_day(date=Timestamp('2016-01-29 00:00:00'), sales=128480), product_family_sales_by_day(date=Timestamp('2016-01-30 00:00:00'), sales=123880), product_family_sales_by_day(date=Timestamp('2016-01-31 00:00:00'), sales=126600), product_family_sales_by_day(date=Timestamp('2016-02-01 00:00:00'), sales=124616)]\n"
     ]
    }
   ],
   "source": [
    "top_product_family = analytics.top_product_family_on_period(\n",
    "    path,\n",
    "    sales_file,\n",
    "    product_file,\n",
    "    begin_date,\n",
    "    end_date\n",
    ")\n",
    "print(top_product_family)"
   ]
  },
  {
   "cell_type": "markdown",
   "metadata": {},
   "source": [
    "See the scripts **top_retailers.py** and **top_product_family.py** for examples using console input"
   ]
  },
  {
   "cell_type": "markdown",
   "metadata": {},
   "source": [
    "# Run the tests\n",
    "From console:\n",
    "\n",
    "**python -m unittest tests/unit_tests.py**"
   ]
  },
  {
   "cell_type": "code",
   "execution_count": 1,
   "metadata": {},
   "outputs": [
    {
     "name": "stdout",
     "output_type": "stream",
     "text": [
      "..\n",
      "----------------------------------------------------------------------\n",
      "Ran 2 tests in 1.002s\n",
      "\n",
      "OK\n"
     ]
    }
   ],
   "source": [
    "!python -m unittest tests/unit_tests.py"
   ]
  }
 ],
 "metadata": {
  "kernelspec": {
   "display_name": "scy-py",
   "language": "python",
   "name": "python3"
  },
  "language_info": {
   "codemirror_mode": {
    "name": "ipython",
    "version": 3
   },
   "file_extension": ".py",
   "mimetype": "text/x-python",
   "name": "python",
   "nbconvert_exporter": "python",
   "pygments_lexer": "ipython3",
   "version": "3.11.2"
  },
  "orig_nbformat": 4
 },
 "nbformat": 4,
 "nbformat_minor": 2
}
